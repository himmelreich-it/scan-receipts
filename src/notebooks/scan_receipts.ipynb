{
 "cells": [
  {
   "cell_type": "markdown",
   "metadata": {},
   "source": [
    "# Receipt Processing Notebook\n",
    "\n",
    "This notebook replicates the CLI functionality for processing receipts step-by-step."
   ]
  },
  {
   "cell_type": "markdown",
   "metadata": {},
   "source": [
    "### Imports\n",
    "Import all necessary modules for receipt processing"
   ]
  },
  {
   "cell_type": "code",
   "execution_count": null,
   "metadata": {},
   "outputs": [],
   "source": [
    "import sys\n",
    "from pathlib import Path\n",
    "import pandas as pd\n",
    "\n",
    "# Add src to path for imports\n",
    "project_root = Path.cwd().parent\n",
    "if str(project_root) not in sys.path:\n",
    "    sys.path.insert(0, str(project_root))\n",
    "\n",
    "from adapters.secondary.file_system_adapter import FileSystemAdapter\n",
    "from adapters.secondary.anthropic_adapter import AnthropicAdapter\n",
    "from adapters.secondary.claude_agent_sdk_adapter import ClaudeAgentSdkAdapter\n",
    "from adapters.secondary.csv_adapter import CSVAdapter\n",
    "from adapters.secondary.duplicate_detection_adapter import DuplicateDetectionAdapter\n",
    "from adapters.secondary.env_config_adapter import EnvConfigAdapter\n",
    "from core.use_cases.process_receipt import ProcessReceiptUseCase\n",
    "from core.use_cases.view_staging import ViewStagingUseCase\n",
    "from core.domain.configuration import AppConfig"
   ]
  },
  {
   "cell_type": "markdown",
   "metadata": {},
   "source": [
    "### Configuration\n",
    "Load configuration from environment variables (.env file)"
   ]
  },
  {
   "cell_type": "code",
   "execution_count": null,
   "metadata": {},
   "outputs": [],
   "source": [
    "# Load configuration\n",
    "config_adapter = EnvConfigAdapter()\n",
    "config = config_adapter.load_config()\n",
    "\n",
    "# Display configuration\n",
    "config_df = pd.DataFrame([\n",
    "    {\"Setting\": \"Incoming Folder\", \"Value\": str(config.incoming_folder.resolve())},\n",
    "    {\"Setting\": \"Scanned Folder\", \"Value\": str(config.scanned_folder.resolve())},\n",
    "    {\"Setting\": \"Imported Folder\", \"Value\": str(config.imported_folder.resolve())},\n",
    "    {\"Setting\": \"Failed Folder\", \"Value\": str(config.failed_folder.resolve())},\n",
    "    {\"Setting\": \"CSV Staging File\", \"Value\": str(config.csv_staging_file.resolve())},\n",
    "    {\"Setting\": \"XLSX Output File\", \"Value\": str(config.xlsx_output_file.resolve())}\n",
    "])\n",
    "display(config_df)"
   ]
  },
  {
   "cell_type": "markdown",
   "metadata": {},
   "source": [
    "### Initialize Adapters and Use Cases\n",
    "Create all adapters and use cases following hexagonal architecture"
   ]
  },
  {
   "cell_type": "code",
   "execution_count": null,
   "metadata": {},
   "outputs": [],
   "source": [
    "# Create adapters\n",
    "file_system = FileSystemAdapter()\n",
    "ai_extraction = ClaudeAgentSdkAdapter() #AnthropicAdapter()\n",
    "csv = CSVAdapter()\n",
    "duplicate_detection = DuplicateDetectionAdapter(file_system)\n",
    "\n",
    "# Create use cases\n",
    "process_receipt_use_case = ProcessReceiptUseCase(\n",
    "    file_system, ai_extraction, csv, duplicate_detection\n",
    ")\n",
    "view_staging_use_case = ViewStagingUseCase(file_system, csv)\n",
    "\n",
    "# Create folders if they don't exist\n",
    "file_system.create_folders(config)\n",
    "\n",
    "print(\"✓ Adapters and use cases initialized\")"
   ]
  },
  {
   "cell_type": "markdown",
   "metadata": {},
   "source": [
    "### View System Status\n",
    "Display file counts in each folder and staging information"
   ]
  },
  {
   "cell_type": "code",
   "execution_count": null,
   "metadata": {},
   "outputs": [],
   "source": [
    "# Count files in each folder\n",
    "incoming_count = file_system.count_receipt_files(config.incoming_folder)\n",
    "scanned_count = file_system.count_receipt_files(config.scanned_folder)\n",
    "imported_count = file_system.count_receipt_files(config.imported_folder)\n",
    "failed_count = file_system.count_receipt_files(config.failed_folder)\n",
    "\n",
    "# Get staging info\n",
    "staging_info = view_staging_use_case.execute(config)\n",
    "staging_str = str(staging_info) if staging_info else \"No staging data\"\n",
    "\n",
    "# Display as DataFrame\n",
    "status_df = pd.DataFrame([\n",
    "    {\"Folder\": \"Incoming\", \"File Count\": incoming_count},\n",
    "    {\"Folder\": \"Scanned\", \"File Count\": scanned_count},\n",
    "    {\"Folder\": \"Imported\", \"File Count\": imported_count},\n",
    "    {\"Folder\": \"Failed\", \"File Count\": failed_count},\n",
    "    {\"Folder\": \"Staging CSV\", \"File Count\": staging_str}\n",
    "])\n",
    "display(status_df)"
   ]
  },
  {
   "cell_type": "markdown",
   "metadata": {},
   "source": [
    "### List Incoming Files\n",
    "Display all supported files in the incoming folder"
   ]
  },
  {
   "cell_type": "code",
   "execution_count": null,
   "metadata": {},
   "outputs": [],
   "source": [
    "incoming_files = file_system.get_supported_files(config.incoming_folder)\n",
    "\n",
    "if incoming_files:\n",
    "    files_df = pd.DataFrame([\n",
    "        {\n",
    "            \"Filename\": f.name,\n",
    "            \"Extension\": f.suffix,\n",
    "            \"Size (KB)\": f.stat().st_size / 1024,\n",
    "            \"Full Path\": str(f)\n",
    "        }\n",
    "        for f in incoming_files\n",
    "    ])\n",
    "    display(files_df)\n",
    "else:\n",
    "    print(f\"No files in {config.incoming_folder}\")"
   ]
  },
  {
   "cell_type": "markdown",
   "metadata": {},
   "source": [
    "### Process All Receipts\n",
    "Run full receipt processing workflow with duplicate detection"
   ]
  },
  {
   "cell_type": "code",
   "execution_count": null,
   "metadata": {},
   "outputs": [],
   "source": [
    "# Execute the full processing use case\n",
    "process_receipt_use_case.execute(config)"
   ]
  },
  {
   "cell_type": "markdown",
   "metadata": {},
   "source": [
    "### View Staging Data\n",
    "Display the contents of receipts.csv as a DataFrame"
   ]
  },
  {
   "cell_type": "code",
   "execution_count": null,
   "metadata": {},
   "outputs": [],
   "source": [
    "staging_data = view_staging_use_case.get_full_table(config)\n",
    "\n",
    "if not staging_data.exists:\n",
    "    print(\"receipts.csv does not exist\")\n",
    "elif staging_data.is_empty:\n",
    "    print(\"receipts.csv is empty\")\n",
    "else:\n",
    "    # Convert to DataFrame for better display\n",
    "    receipts_df = pd.DataFrame([\n",
    "        {\n",
    "            \"Amount\": r.amount,\n",
    "            \"Tax\": r.tax,\n",
    "            \"Tax %\": r.tax_percentage,\n",
    "            \"Description\": r.description,\n",
    "            \"Currency\": r.currency,\n",
    "            \"Date\": r.date,\n",
    "            \"Confidence\": r.confidence,\n",
    "            \"Hash\": r.hash[:8] + \"...\" if len(r.hash) > 8 else r.hash,\n",
    "            \"Filename\": r.done_filename\n",
    "        }\n",
    "        for r in staging_data.receipts\n",
    "    ])\n",
    "    \n",
    "    print(f\"Total entries: {len(staging_data.receipts)}\")\n",
    "    receipts_df = receipts_df.sort_values(by=\"Date\", ascending=False).reset_index(drop=True)\n",
    "    display(receipts_df)"
   ]
  },
  {
   "cell_type": "markdown",
   "metadata": {},
   "source": [
    "### View Failed Receipts\n",
    "Display failed receipt files and their error logs"
   ]
  },
  {
   "cell_type": "markdown",
   "metadata": {},
   "source": [
    "### Import to XLSX\n",
    "Import the scanned receipts from receipts.csv into the XLSX file"
   ]
  },
  {
   "cell_type": "code",
   "execution_count": null,
   "metadata": {},
   "outputs": [],
   "source": [
    "# Initialize XLSX adapter and import use case\n",
    "from adapters.secondary.xlsx_adapter import XLSXAdapter\n",
    "from core.use_cases.import_to_xlsx import ImportToXLSXUseCase\n",
    "\n",
    "xlsx_adapter = XLSXAdapter()\n",
    "import_use_case = ImportToXLSXUseCase(\n",
    "    csv=csv,\n",
    "    xlsx=xlsx_adapter,\n",
    "    file_system=file_system,\n",
    "    duplicate_detection=duplicate_detection\n",
    ")\n",
    "\n",
    "print(\"✓ XLSX adapter and import use case initialized\")"
   ]
  },
  {
   "cell_type": "code",
   "execution_count": null,
   "metadata": {},
   "outputs": [],
   "source": [
    "# Execute the import\n",
    "import_use_case.execute(config)"
   ]
  },
  {
   "cell_type": "markdown",
   "metadata": {},
   "source": [
    "### Verify Import Results\n",
    "Check the imported folder and verify backup was created"
   ]
  },
  {
   "cell_type": "code",
   "execution_count": null,
   "metadata": {},
   "outputs": [],
   "source": [
    "# Check imported folder\n",
    "imported_files = file_system.get_supported_files(config.imported_folder)\n",
    "\n",
    "if imported_files:\n",
    "    files_df = pd.DataFrame([\n",
    "        {\n",
    "            \"Filename\": f.name,\n",
    "            \"Extension\": f.suffix,\n",
    "            \"Size (KB)\": f.stat().st_size / 1024\n",
    "        }\n",
    "        for f in imported_files\n",
    "    ])\n",
    "    print(f\"Total imported files: {len(imported_files)}\")\n",
    "    display(files_df.tail(10))  # Show last 10 files\n",
    "else:\n",
    "    print(\"No files in imported folder\")\n",
    "\n",
    "# Check if backup was created\n",
    "backup_files = list(config.xlsx_output_file.parent.glob(f\"{config.xlsx_output_file.stem}.*{config.xlsx_output_file.suffix}\"))\n",
    "if backup_files:\n",
    "    print(f\"\\n✅ Found {len(backup_files)} backup(s):\")\n",
    "    for backup in backup_files:\n",
    "        print(f\"  • {backup.name}\")"
   ]
  },
  {
   "cell_type": "markdown",
   "metadata": {},
   "source": [
    "### Process Single Receipt (For Testing)\n",
    "Process one receipt file to test AI extraction and see detailed output"
   ]
  },
  {
   "cell_type": "code",
   "execution_count": null,
   "metadata": {},
   "outputs": [],
   "source": [
    "# Configuration: set this to the file you want to test\n",
    "from core.domain.receipt import FileHash\n",
    "\n",
    "test_file_path = Path(\"../../data/incoming/github-himmelreich-it-receipt-2025-09-20.pdf\")  # Example: Path(\"../data/incoming/receipt.pdf\")\n",
    "\n",
    "if test_file_path and test_file_path.exists():\n",
    "    print(f\"Processing: {test_file_path.name}\")\n",
    "    \n",
    "    # Check for duplicates\n",
    "    existing_hashes: list[FileHash] = []\n",
    "    existing_hashes.extend(file_system.get_file_hashes_from_folder(config.imported_folder))\n",
    "    existing_hashes.extend(file_system.get_file_hashes_from_folder(config.scanned_folder))\n",
    "    \n",
    "    duplicate_result = duplicate_detection.check_duplicate(test_file_path, existing_hashes)\n",
    "    \n",
    "    if duplicate_result.is_duplicate:\n",
    "        print(f\"⏭️  Duplicate detected in {duplicate_result.location_name} folder\")\n",
    "    else:\n",
    "        print(\"🔍 Analyzing with AI...\")\n",
    "        receipt_data = ai_extraction.extract_receipt_data(str(test_file_path))\n",
    "        \n",
    "        # Display as DataFrame\n",
    "        result_df = pd.DataFrame([receipt_data])\n",
    "        display(result_df)\n",
    "else:\n",
    "    print(\"Set test_file_path to a valid file path to process a single receipt\")"
   ]
  },
  {
   "cell_type": "markdown",
   "metadata": {},
   "source": [
    "### Test Claude Agent SDK Adapter\n",
    "Test the new Claude Agent SDK adapter with a sample receipt"
   ]
  },
  {
   "cell_type": "code",
   "execution_count": null,
   "metadata": {},
   "outputs": [],
   "source": [
    "# Enable logging to see what the Agent SDK is doing\n",
    "import logging\n",
    "\n",
    "# Set up logging for the adapter\n",
    "logging.basicConfig(level=logging.DEBUG, format='%(name)s - %(levelname)s - %(message)s')\n",
    "logger = logging.getLogger('adapters.secondary.claude_agent_sdk_adapter')\n",
    "logger.setLevel(logging.DEBUG)\n",
    "\n",
    "print(\"Logging enabled for Agent SDK adapter\")"
   ]
  },
  {
   "cell_type": "code",
   "execution_count": null,
   "metadata": {},
   "outputs": [],
   "source": [
    "# Initialize the adapter\n",
    "agent_sdk_adapter = ClaudeAgentSdkAdapter()\n",
    "\n",
    "# Test with one of the incoming receipts\n",
    "test_receipt = Path(\"../../data/incoming/2025_10_24 12_13 Office Lens.jpg\")\n",
    "\n",
    "if test_receipt.exists():\n",
    "    print(f\"Testing Claude Agent SDK adapter with: {test_receipt.name}\")\n",
    "    print(\"This may take a moment as it processes the receipt...\\n\")\n",
    "    \n",
    "    try:\n",
    "        # Extract receipt data using the new adapter\n",
    "        result = agent_sdk_adapter.extract_receipt_data(str(test_receipt))\n",
    "        \n",
    "        # Display as DataFrame\n",
    "        result_df = pd.DataFrame([result])\n",
    "        display(result_df)\n",
    "        \n",
    "        print(\"\\n✅ Agent SDK adapter test successful!\")\n",
    "    except Exception as e:\n",
    "        print(f\"❌ Error testing adapter: {e}\")\n",
    "        import traceback\n",
    "        traceback.print_exc()\n",
    "else:\n",
    "    print(f\"Test file not found: {test_receipt}\")"
   ]
  }
 ],
 "metadata": {
  "kernelspec": {
   "display_name": "scan-receipts (3.13.7)",
   "language": "python",
   "name": "python3"
  },
  "language_info": {
   "codemirror_mode": {
    "name": "ipython",
    "version": 3
   },
   "file_extension": ".py",
   "mimetype": "text/x-python",
   "name": "python",
   "nbconvert_exporter": "python",
   "pygments_lexer": "ipython3",
   "version": "3.13.7"
  }
 },
 "nbformat": 4,
 "nbformat_minor": 4
}
